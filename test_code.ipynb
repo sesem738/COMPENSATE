{
 "cells": [
  {
   "cell_type": "code",
   "execution_count": 10,
   "id": "3804742d",
   "metadata": {},
   "outputs": [],
   "source": [
    "import franky\n",
    "from franky import Gripper\n",
    "import numpy as np"
   ]
  },
  {
   "cell_type": "code",
   "execution_count": 12,
   "id": "d46d6eb9",
   "metadata": {},
   "outputs": [],
   "source": [
    "# Workspace limits for safety\n",
    "workspace_limits = {\n",
    "            'x': (0.3, 0.8),\n",
    "            'y': (-0.4, 0.4), \n",
    "            'z': (0.3, 0.8)\n",
    "        }\n",
    "\n",
    "\n",
    "q = np.array([0.123161,0.986249,-0.000304419,0.110198])\n",
    "x_min, x_max = workspace_limits['x']\n",
    "y_min, y_max = workspace_limits['y']\n",
    "z_min, z_max = workspace_limits['z']\n",
    "        \n",
    "# Generate random target with some bias towards reachable area\n",
    "target_pos = np.array([\n",
    "    np.random.uniform(x_min + 0.1, x_max - 0.1),\n",
    "    np.random.uniform(y_min + 0.1, y_max - 0.1),\n",
    "    np.random.uniform(z_min + 0.1, z_max - 0.1),\n",
    "    q[3],\n",
    "    q[0],\n",
    "    q[1],\n",
    "    q[2]\n",
    "])"
   ]
  },
  {
   "cell_type": "code",
   "execution_count": 2,
   "id": "e99e87de",
   "metadata": {},
   "outputs": [],
   "source": [
    "robot = franky.Robot(\"172.16.0.2\")\n",
    "gripper = Gripper(\"172.16.0.2\")"
   ]
  },
  {
   "cell_type": "code",
   "execution_count": 6,
   "id": "3b24f952",
   "metadata": {},
   "outputs": [
    {
     "name": "stdout",
     "output_type": "stream",
     "text": [
      "[ 0.64694343 -0.00250595  0.83336583]\n"
     ]
    }
   ],
   "source": [
    "print(robot.current_cartesian_state.pose.end_effector_pose.translation)"
   ]
  },
  {
   "cell_type": "code",
   "execution_count": 7,
   "id": "44043533",
   "metadata": {},
   "outputs": [
    {
     "name": "stdout",
     "output_type": "stream",
     "text": [
      "Affine(t=[0.60311 -0.0874964 0.651584], q=[0.123161 0.986249 -0.000304419 0.110198])\n"
     ]
    }
   ],
   "source": [
    "print(robot.current_cartesian_state.pose.end_effector_pose)"
   ]
  },
  {
   "cell_type": "code",
   "execution_count": 3,
   "id": "63890697",
   "metadata": {},
   "outputs": [
    {
     "name": "stdout",
     "output_type": "stream",
     "text": [
      "[-0.19705267 -0.3941709   0.08322395 -2.36862196 -0.30140136  1.8323526\n",
      " -1.62360747]\n"
     ]
    }
   ],
   "source": [
    "print(robot.current_joint_positions)"
   ]
  },
  {
   "cell_type": "code",
   "execution_count": 4,
   "id": "b6deb7b8",
   "metadata": {},
   "outputs": [
    {
     "data": {
      "text/plain": [
       "True"
      ]
     },
     "execution_count": 4,
     "metadata": {},
     "output_type": "execute_result"
    }
   ],
   "source": [
    "gripper.move(width=0.0, speed=0.1)"
   ]
  }
 ],
 "metadata": {
  "kernelspec": {
   "display_name": "panda",
   "language": "python",
   "name": "python3"
  },
  "language_info": {
   "codemirror_mode": {
    "name": "ipython",
    "version": 3
   },
   "file_extension": ".py",
   "mimetype": "text/x-python",
   "name": "python",
   "nbconvert_exporter": "python",
   "pygments_lexer": "ipython3",
   "version": "3.10.18"
  }
 },
 "nbformat": 4,
 "nbformat_minor": 5
}
