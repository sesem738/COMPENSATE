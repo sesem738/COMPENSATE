{
 "cells": [
  {
   "cell_type": "code",
   "execution_count": 86,
   "id": "3804742d",
   "metadata": {},
   "outputs": [],
   "source": [
    "import franky"
   ]
  },
  {
   "cell_type": "code",
   "execution_count": 87,
   "id": "e99e87de",
   "metadata": {},
   "outputs": [],
   "source": [
    "robot = franky.Robot(\"172.16.0.2\")"
   ]
  },
  {
   "cell_type": "code",
   "execution_count": 88,
   "id": "3b24f952",
   "metadata": {},
   "outputs": [
    {
     "name": "stdout",
     "output_type": "stream",
     "text": [
      "[ 0.53783193 -0.34475805  0.29159481]\n"
     ]
    }
   ],
   "source": [
    "print(robot.current_cartesian_state.pose.end_effector_pose.translation)"
   ]
  },
  {
   "cell_type": "code",
   "execution_count": 77,
   "id": "63890697",
   "metadata": {},
   "outputs": [
    {
     "name": "stdout",
     "output_type": "stream",
     "text": [
      "[-0.34151123  0.33809315 -0.20143743 -1.62861616  0.11664783  1.8213334\n",
      "  0.67608861]\n"
     ]
    }
   ],
   "source": [
    "print(robot.current_joint_positions)"
   ]
  },
  {
   "cell_type": "code",
   "execution_count": null,
   "id": "b6deb7b8",
   "metadata": {},
   "outputs": [],
   "source": []
  }
 ],
 "metadata": {
  "kernelspec": {
   "display_name": "panda",
   "language": "python",
   "name": "python3"
  },
  "language_info": {
   "codemirror_mode": {
    "name": "ipython",
    "version": 3
   },
   "file_extension": ".py",
   "mimetype": "text/x-python",
   "name": "python",
   "nbconvert_exporter": "python",
   "pygments_lexer": "ipython3",
   "version": "3.10.18"
  }
 },
 "nbformat": 4,
 "nbformat_minor": 5
}
